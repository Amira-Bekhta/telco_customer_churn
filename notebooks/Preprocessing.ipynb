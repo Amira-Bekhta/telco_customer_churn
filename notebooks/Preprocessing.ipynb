{
 "cells": [
  {
   "cell_type": "markdown",
   "metadata": {},
   "source": [
    "# Intorduction\n",
    "\n",
    "In this preprocessing section, we will need to prepare our data in order to make sure that it will be suitable for this study, what we will need to do is to find any null values in data and convert some of it to numerical values to easily work with it in the machine learning model"
   ]
  },
  {
   "cell_type": "markdown",
   "metadata": {},
   "source": [
    "# Import and load\n",
    "\n",
    "We will start by importing functions to load and save data, and also load the data"
   ]
  },
  {
   "cell_type": "code",
   "execution_count": 23,
   "metadata": {},
   "outputs": [],
   "source": [
    "import sys\n",
    "import os\n",
    "\n",
    "sys.path.append(os.path.abspath('../src'))\n",
    "\n",
    "from data_loader import load_data, save_data"
   ]
  },
  {
   "cell_type": "code",
   "execution_count": 24,
   "metadata": {},
   "outputs": [],
   "source": [
    "data = load_data(\"telco.csv\", \"raw\", False)"
   ]
  },
  {
   "cell_type": "markdown",
   "metadata": {},
   "source": [
    "Now, we will see the null values and their counts"
   ]
  },
  {
   "cell_type": "code",
   "execution_count": 25,
   "metadata": {},
   "outputs": [
    {
     "data": {
      "text/plain": [
       "Customer ID  Gender  Age    Under 30  Senior Citizen  Married  Dependents  Number of Dependents  Country  State  City   Zip Code  Latitude  Longitude  Population  Quarter  Referred a Friend  Number of Referrals  Tenure in Months  Offer  Phone Service  Avg Monthly Long Distance Charges  Multiple Lines  Internet Service  Internet Type  Avg Monthly GB Download  Online Security  Online Backup  Device Protection Plan  Premium Tech Support  Streaming TV  Streaming Movies  Streaming Music  Unlimited Data  Contract  Paperless Billing  Payment Method  Monthly Charge  Total Charges  Total Refunds  Total Extra Data Charges  Total Long Distance Charges  Total Revenue  Satisfaction Score  Customer Status  Churn Label  Churn Score  CLTV   Churn Category  Churn Reason\n",
       "False        False   False  False     False           False    False       False                 False    False  False  False     False     False      False       False    False              False                False             True   False          False                              False           False             False          False                    False            False          False                   False                 False         False             False            False           False     False              False           False           False          False          False                     False                        False          False               False            False        False        False  True            True            2025\n",
       "                                                                                                                                                                                                                                      False  False          False                              False           False             False          False                    False            False          False                   False                 False         False             False            False           False     False              False           False           False          False          False                     False                        False          False               False            False        False        False  True            True            1736\n",
       "                                                                                                                                                                                                                                      True   False          False                              False           False             False          False                    False            False          False                   False                 False         False             False            False           False     False              False           False           False          False          False                     False                        False          False               False            False        False        False  False           False            999\n",
       "                                                                                                                                                                                                                                                                                                                                 True           False                    False            False          False                   False                 False         False             False            False           False     False              False           False           False          False          False                     False                        False          False               False            False        False        False  True            True             801\n",
       "                                                                                                                                                                                                                                      False  False          False                              False           False             False          False                    False            False          False                   False                 False         False             False            False           False     False              False           False           False          False          False                     False                        False          False               False            False        False        False  False           False            757\n",
       "                                                                                                                                                                                                                                                                                                                                 True           False                    False            False          False                   False                 False         False             False            False           False     False              False           False           False          False          False                     False                        False          False               False            False        False        False  True            True             612\n",
       "                                                                                                                                                                                                                                                                                                                                                                                                                                                                                                                                                                                                                                                                                                                                                               False           False             61\n",
       "                                                                                                                                                                                                                                      True   False          False                              False           False             True           False                    False            False          False                   False                 False         False             False            False           False     False              False           False           False          False          False                     False                        False          False               False            False        False        False  False           False             52\n",
       "Name: count, dtype: int64"
      ]
     },
     "execution_count": 25,
     "metadata": {},
     "output_type": "execute_result"
    }
   ],
   "source": [
    "data.isna().value_counts()"
   ]
  },
  {
   "cell_type": "markdown",
   "metadata": {},
   "source": [
    "After looking at the counts of null values, we find that most columns do not contain any null values, the columns that contain null values are either not necessary for this analysis, or are going to be converted into numerical values for the machine learning model"
   ]
  },
  {
   "cell_type": "markdown",
   "metadata": {},
   "source": [
    "# Prepare the data for the machine learning model"
   ]
  },
  {
   "cell_type": "markdown",
   "metadata": {},
   "source": [
    "We will start by looking at the different columns and decide which ones we will use to train the model, and which one is going to be used as the target"
   ]
  },
  {
   "cell_type": "code",
   "execution_count": 26,
   "metadata": {},
   "outputs": [
    {
     "name": "stdout",
     "output_type": "stream",
     "text": [
      "<class 'pandas.core.frame.DataFrame'>\n",
      "RangeIndex: 7043 entries, 0 to 7042\n",
      "Data columns (total 50 columns):\n",
      " #   Column                             Non-Null Count  Dtype  \n",
      "---  ------                             --------------  -----  \n",
      " 0   Customer ID                        7043 non-null   object \n",
      " 1   Gender                             7043 non-null   object \n",
      " 2   Age                                7043 non-null   int64  \n",
      " 3   Under 30                           7043 non-null   object \n",
      " 4   Senior Citizen                     7043 non-null   object \n",
      " 5   Married                            7043 non-null   object \n",
      " 6   Dependents                         7043 non-null   object \n",
      " 7   Number of Dependents               7043 non-null   int64  \n",
      " 8   Country                            7043 non-null   object \n",
      " 9   State                              7043 non-null   object \n",
      " 10  City                               7043 non-null   object \n",
      " 11  Zip Code                           7043 non-null   int64  \n",
      " 12  Latitude                           7043 non-null   float64\n",
      " 13  Longitude                          7043 non-null   float64\n",
      " 14  Population                         7043 non-null   int64  \n",
      " 15  Quarter                            7043 non-null   object \n",
      " 16  Referred a Friend                  7043 non-null   object \n",
      " 17  Number of Referrals                7043 non-null   int64  \n",
      " 18  Tenure in Months                   7043 non-null   int64  \n",
      " 19  Offer                              3166 non-null   object \n",
      " 20  Phone Service                      7043 non-null   object \n",
      " 21  Avg Monthly Long Distance Charges  7043 non-null   float64\n",
      " 22  Multiple Lines                     7043 non-null   object \n",
      " 23  Internet Service                   7043 non-null   object \n",
      " 24  Internet Type                      5517 non-null   object \n",
      " 25  Avg Monthly GB Download            7043 non-null   int64  \n",
      " 26  Online Security                    7043 non-null   object \n",
      " 27  Online Backup                      7043 non-null   object \n",
      " 28  Device Protection Plan             7043 non-null   object \n",
      " 29  Premium Tech Support               7043 non-null   object \n",
      " 30  Streaming TV                       7043 non-null   object \n",
      " 31  Streaming Movies                   7043 non-null   object \n",
      " 32  Streaming Music                    7043 non-null   object \n",
      " 33  Unlimited Data                     7043 non-null   object \n",
      " 34  Contract                           7043 non-null   object \n",
      " 35  Paperless Billing                  7043 non-null   object \n",
      " 36  Payment Method                     7043 non-null   object \n",
      " 37  Monthly Charge                     7043 non-null   float64\n",
      " 38  Total Charges                      7043 non-null   float64\n",
      " 39  Total Refunds                      7043 non-null   float64\n",
      " 40  Total Extra Data Charges           7043 non-null   int64  \n",
      " 41  Total Long Distance Charges        7043 non-null   float64\n",
      " 42  Total Revenue                      7043 non-null   float64\n",
      " 43  Satisfaction Score                 7043 non-null   int64  \n",
      " 44  Customer Status                    7043 non-null   object \n",
      " 45  Churn Label                        7043 non-null   object \n",
      " 46  Churn Score                        7043 non-null   int64  \n",
      " 47  CLTV                               7043 non-null   int64  \n",
      " 48  Churn Category                     1869 non-null   object \n",
      " 49  Churn Reason                       1869 non-null   object \n",
      "dtypes: float64(8), int64(11), object(31)\n",
      "memory usage: 2.7+ MB\n"
     ]
    }
   ],
   "source": [
    "data.info()"
   ]
  },
  {
   "cell_type": "markdown",
   "metadata": {},
   "source": [
    "After looking at the columns, we will descide the following columns to train the model:\n",
    "<ul>\n",
    "<li>Gender</li>\n",
    "<li>Age</li>\n",
    "<li>Senior Citizen</li>\n",
    "<li>Married</li>\n",
    "<li>Dependents</li>\n",
    "<li>Tenure in Months</li>\n",
    "<li>Offer</li>\n",
    "<li>Phone Service</li>\n",
    "<li>Contract</li>\n",
    "<li>Monthly Charge</li>\n",
    "<li>Premium Tech Support</li>\n",
    "</ul>\n",
    "\n",
    "- For the target value, we will use the **Churn Label** to find if a customer decides to churn or not"
   ]
  },
  {
   "cell_type": "code",
   "execution_count": 27,
   "metadata": {},
   "outputs": [],
   "source": [
    "model_info = [\"Gender\", \"Age\", \"Senior Citizen\", \"Married\", \"Dependents\", \"Tenure in Months\", \"Offer\", \"Phone Service\", \"Contract\", \"Monthly Charge\", \"Premium Tech Support\", \"Churn Label\"]"
   ]
  },
  {
   "cell_type": "markdown",
   "metadata": {},
   "source": [
    "We will now create a new dataset that contains our columns for the machine learning model"
   ]
  },
  {
   "cell_type": "code",
   "execution_count": 28,
   "metadata": {},
   "outputs": [],
   "source": [
    "model_data = data[model_info]"
   ]
  },
  {
   "cell_type": "markdown",
   "metadata": {},
   "source": [
    "We will also take a look at the value counts for each column to see what information to convert to numerical values"
   ]
  },
  {
   "cell_type": "code",
   "execution_count": 29,
   "metadata": {},
   "outputs": [
    {
     "data": {
      "text/plain": [
       "Gender  Age  Senior Citizen  Married  Dependents  Tenure in Months  Offer    Phone Service  Contract        Monthly Charge  Premium Tech Support  Churn Label\n",
       "Male    80   Yes             Yes      Yes         68                Offer A  Yes            One Year        107.15          Yes                   No             1\n",
       "Female  19   No              No       No          1                 Offer E  Yes            Month-to-Month  60.15           No                    Yes            1\n",
       "                                                  2                 Offer E  No             Month-to-Month  34.70           No                    Yes            1\n",
       "                                                  4                 Offer E  No             Month-to-Month  48.25           Yes                   No             1\n",
       "                                                  11                Offer D  Yes            Month-to-Month  64.05           No                    No             1\n",
       "                                                                                                                                                                ..\n",
       "                             Yes      Yes         15                Offer D  Yes            Month-to-Month  105.35          No                    No             1\n",
       "                                      No          71                Offer A  Yes            Two Year        24.40           No                    No             1\n",
       "                                                                                            One Year        104.10          No                    No             1\n",
       "                                                  25                Offer C  No             Month-to-Month  34.00           No                    Yes            1\n",
       "                                                  16                Offer D  Yes            Month-to-Month  90.70           No                    No             1\n",
       "Name: count, Length: 3166, dtype: int64"
      ]
     },
     "execution_count": 29,
     "metadata": {},
     "output_type": "execute_result"
    }
   ],
   "source": [
    "model_data.value_counts()"
   ]
  },
  {
   "cell_type": "markdown",
   "metadata": {},
   "source": [
    "We will then replace the values accordingly:"
   ]
  },
  {
   "cell_type": "code",
   "execution_count": 33,
   "metadata": {},
   "outputs": [],
   "source": [
    "yes_no_replacements = {\n",
    "    \"Yes\":1,\n",
    "    \"No\":0,\n",
    "    \"Male\":0,\n",
    "    \"Female\":1\n",
    "}\n",
    "offers = {\n",
    "    \"Offer A\": 1,\n",
    "    \"Offer B\": 2,\n",
    "    \"Offer C\": 3,\n",
    "    \"Offer D\": 4,\n",
    "    \"Offer E\": 5\n",
    "}\n",
    "contracts = {\n",
    "    \"Month-to-Month\":0,\n",
    "    \"One Year\":1,\n",
    "    \"Two Year\":2,\n",
    "}\n",
    "model_data.fillna(0, inplace=True)\n",
    "model_data = model_data.replace(yes_no_replacements).infer_objects(copy=False)\n",
    "model_data = model_data.replace(contracts).infer_objects(copy=False)\n",
    "model_data = model_data.replace(offers).infer_objects(copy=False)"
   ]
  },
  {
   "cell_type": "markdown",
   "metadata": {},
   "source": [
    "And we can take a look at a sample from the model dataset"
   ]
  },
  {
   "cell_type": "code",
   "execution_count": 31,
   "metadata": {},
   "outputs": [
    {
     "data": {
      "text/html": [
       "<div>\n",
       "<style scoped>\n",
       "    .dataframe tbody tr th:only-of-type {\n",
       "        vertical-align: middle;\n",
       "    }\n",
       "\n",
       "    .dataframe tbody tr th {\n",
       "        vertical-align: top;\n",
       "    }\n",
       "\n",
       "    .dataframe thead th {\n",
       "        text-align: right;\n",
       "    }\n",
       "</style>\n",
       "<table border=\"1\" class=\"dataframe\">\n",
       "  <thead>\n",
       "    <tr style=\"text-align: right;\">\n",
       "      <th></th>\n",
       "      <th>Gender</th>\n",
       "      <th>Age</th>\n",
       "      <th>Senior Citizen</th>\n",
       "      <th>Married</th>\n",
       "      <th>Dependents</th>\n",
       "      <th>Tenure in Months</th>\n",
       "      <th>Offer</th>\n",
       "      <th>Phone Service</th>\n",
       "      <th>Contract</th>\n",
       "      <th>Monthly Charge</th>\n",
       "      <th>Premium Tech Support</th>\n",
       "      <th>Churn Label</th>\n",
       "    </tr>\n",
       "  </thead>\n",
       "  <tbody>\n",
       "    <tr>\n",
       "      <th>5326</th>\n",
       "      <td>1</td>\n",
       "      <td>22</td>\n",
       "      <td>0</td>\n",
       "      <td>1</td>\n",
       "      <td>1</td>\n",
       "      <td>54</td>\n",
       "      <td>0</td>\n",
       "      <td>1</td>\n",
       "      <td>2</td>\n",
       "      <td>60.0</td>\n",
       "      <td>1</td>\n",
       "      <td>0</td>\n",
       "    </tr>\n",
       "  </tbody>\n",
       "</table>\n",
       "</div>"
      ],
      "text/plain": [
       "      Gender  Age  Senior Citizen  Married  Dependents  Tenure in Months  \\\n",
       "5326       1   22               0        1           1                54   \n",
       "\n",
       "      Offer  Phone Service  Contract  Monthly Charge  Premium Tech Support  \\\n",
       "5326      0              1         2            60.0                     1   \n",
       "\n",
       "      Churn Label  \n",
       "5326            0  "
      ]
     },
     "execution_count": 31,
     "metadata": {},
     "output_type": "execute_result"
    }
   ],
   "source": [
    "model_data.sample()"
   ]
  },
  {
   "cell_type": "markdown",
   "metadata": {},
   "source": [
    "Finally, we will save the dataset"
   ]
  },
  {
   "cell_type": "code",
   "execution_count": 32,
   "metadata": {},
   "outputs": [],
   "source": [
    "save_data(model_data, \"model_data.csv\", False)"
   ]
  }
 ],
 "metadata": {
  "kernelspec": {
   "display_name": ".venv",
   "language": "python",
   "name": "python3"
  },
  "language_info": {
   "codemirror_mode": {
    "name": "ipython",
    "version": 3
   },
   "file_extension": ".py",
   "mimetype": "text/x-python",
   "name": "python",
   "nbconvert_exporter": "python",
   "pygments_lexer": "ipython3",
   "version": "3.13.1"
  }
 },
 "nbformat": 4,
 "nbformat_minor": 2
}
